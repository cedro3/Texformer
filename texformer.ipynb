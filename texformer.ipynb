{
  "nbformat": 4,
  "nbformat_minor": 0,
  "metadata": {
    "colab": {
      "name": "texformer",
      "provenance": [],
      "mount_file_id": "1xjJ1CLhpBqRf1yUpFBBO9VvpgvrB5YFW",
      "authorship_tag": "ABX9TyOeNNSpKj7DeY3ypI6c1izk",
      "include_colab_link": true
    },
    "kernelspec": {
      "name": "python3",
      "display_name": "Python 3"
    },
    "language_info": {
      "name": "python"
    },
    "accelerator": "GPU"
  },
  "cells": [
    {
      "cell_type": "markdown",
      "metadata": {
        "id": "view-in-github",
        "colab_type": "text"
      },
      "source": [
        "<a href=\"https://colab.research.google.com/github/cedro3/Texformer/blob/master/texformer.ipynb\" target=\"_parent\"><img src=\"https://colab.research.google.com/assets/colab-badge.svg\" alt=\"Open In Colab\"/></a>"
      ]
    },
    {
      "cell_type": "markdown",
      "metadata": {
        "id": "JudcHF2Shnq0"
      },
      "source": [
        "## セットアップ"
      ]
    },
    {
      "cell_type": "code",
      "metadata": {
        "id": "gw2V2Zc9xxrj"
      },
      "source": [
        "# githubからコードを取得\n",
        "! git clone https://github.com/cedro3/Texformer.git\n",
        "%cd Texformer\n",
        "\n",
        "# pytorchバージョン変更\n",
        "! pip install torch==1.4.0+cu92 torchvision==0.5.0+cu92 -f https://download.pytorch.org/whl/torch_stable.html\n",
        "\n",
        "# neural_renderインストール\n",
        "! pip install neural_renderer_pytorch\n",
        "\n",
        "# その他のライブラリのインストール\n",
        "! pip install imageio easydict smplx==0.1.13 scikit-image\n",
        "! pip install scipy==1.5.2\n",
        "\n",
        "# metaデータダウンロード\n",
        "import gdown\n",
        "gdown.download('https://drive.google.com/uc?id=1LUimS6jmVW2Ynh4JNAiSWfqYUkxYQRpo', './meta.zip', quiet=False)\n",
        "! unzip meta.zip\n",
        "\n",
        "# 学習済みパラメータダウンロード\n",
        "! mkdir pretrained\n",
        "gdown.download('https://drive.google.com/uc?id=1QKGYkBSpb-jPaRuqtd2vzrW_5Pn4v567', './pretrained/texformer_ep500.pt', quiet=False)"
      ],
      "execution_count": null,
      "outputs": []
    },
    {
      "cell_type": "markdown",
      "metadata": {
        "id": "rKN-UR71xEpj"
      },
      "source": [
        "## 3Dテクスチャの推定"
      ]
    },
    {
      "cell_type": "code",
      "metadata": {
        "id": "OLuOtC5o_OHl"
      },
      "source": [
        "! python demo.py --img_path demo_imgs/img01.png --seg_path demo_imgs/seg.png --save"
      ],
      "execution_count": null,
      "outputs": []
    },
    {
      "cell_type": "code",
      "metadata": {
        "id": "Z9hVhneyJNQU"
      },
      "source": [
        "from IPython.display import Image,display_png\n",
        "display_png(Image('demo_imgs/output.png'))"
      ],
      "execution_count": null,
      "outputs": []
    },
    {
      "cell_type": "code",
      "metadata": {
        "id": "gMy6oqbZi4eQ"
      },
      "source": [
        "from IPython.display import Image\n",
        "Image('./output.gif', format='png')"
      ],
      "execution_count": null,
      "outputs": []
    }
  ]
}